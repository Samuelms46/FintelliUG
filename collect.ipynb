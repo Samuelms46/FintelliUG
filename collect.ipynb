{
 "cells": [
  {
   "cell_type": "code",
   "execution_count": 7,
   "id": "3378bd7f",
   "metadata": {},
   "outputs": [
    {
     "name": "stdout",
     "output_type": "stream",
     "text": [
      "Collection: fintelliug_default\n",
      "Total Documents: 0\n",
      "Status: active\n",
      "------------------------------\n",
      "Collection: fintelliug_competitors\n",
      "Total Documents: 0\n",
      "Status: active\n",
      "------------------------------\n",
      "Collection: fintelliug_social\n",
      "Total Documents: 0\n",
      "Status: active\n",
      "------------------------------\n",
      "Collection: fintelliug_default\n",
      "Total Documents: 0\n",
      "Status: active\n",
      "------------------------------\n"
     ]
    }
   ],
   "source": [
    "# Example: Print stats for all collections\n",
    "\n",
    "from database.vector_db import ChromaDBManager\n",
    "\n",
    "# List your collection names\n",
    "collection_names = [\n",
    "    \"fintelliug_default\",\n",
    "    \"fintelliug_competitors\",\n",
    "    \"fintelliug_social\",\n",
    "    \"fintelliug_default\"\n",
    "    # Add more if you have them\n",
    "]\n",
    "\n",
    "for name in collection_names:\n",
    "    db = ChromaDBManager(collection_name=name)\n",
    "    stats = db.get_collection_stats()\n",
    "    print(f\"Collection: {stats['collection_name']}\")\n",
    "    print(f\"Total Documents: {stats['total_documents']}\")\n",
    "    print(f\"Status: {stats['status']}\")\n",
    "    print(\"-\" * 30)"
   ]
  },
  {
   "cell_type": "code",
   "execution_count": 6,
   "id": "d6f8ad7b",
   "metadata": {},
   "outputs": [
    {
     "name": "stdout",
     "output_type": "stream",
     "text": [
      "Files in persistent directory: ['67a2d595-1eac-42ef-bbdc-4c6be1882224', 'chroma.sqlite3']\n"
     ]
    }
   ],
   "source": [
    "import os\n",
    "from config import Config\n",
    "\n",
    "persist_dir = Config.VECTOR_DB_PATH\n",
    "print(\"Files in persistent directory:\", os.listdir(persist_dir))"
   ]
  }
 ],
 "metadata": {
  "kernelspec": {
   "display_name": "venv",
   "language": "python",
   "name": "python3"
  },
  "language_info": {
   "codemirror_mode": {
    "name": "ipython",
    "version": 3
   },
   "file_extension": ".py",
   "mimetype": "text/x-python",
   "name": "python",
   "nbconvert_exporter": "python",
   "pygments_lexer": "ipython3",
   "version": "3.12.8"
  }
 },
 "nbformat": 4,
 "nbformat_minor": 5
}
